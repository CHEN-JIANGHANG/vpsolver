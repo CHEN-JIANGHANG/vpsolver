{
 "cells": [
  {
   "cell_type": "markdown",
   "metadata": {},
   "source": [
    "# Simple VBP example"
   ]
  },
  {
   "cell_type": "code",
   "execution_count": 1,
   "metadata": {
    "collapsed": true
   },
   "outputs": [],
   "source": [
    "from __future__ import print_function\n",
    "from IPython.display import HTML\n",
    "from time import time"
   ]
  },
  {
   "cell_type": "markdown",
   "metadata": {},
   "source": [
    "## Mid-level API"
   ]
  },
  {
   "cell_type": "code",
   "execution_count": 2,
   "metadata": {
    "collapsed": true
   },
   "outputs": [],
   "source": [
    "from pyvpsolver import VPSolver, VBP, AFG, MPS"
   ]
  },
  {
   "cell_type": "markdown",
   "metadata": {},
   "source": [
    "Define a VBP instance:"
   ]
  },
  {
   "cell_type": "code",
   "execution_count": 3,
   "metadata": {
    "collapsed": true
   },
   "outputs": [],
   "source": [
    "W = (5180, 9)\n",
    "w = [(1120,1), (1250,1), (520,1), (1066,1), (1000,1), (1150,1)]\n",
    "b = [9, 5, 91, 18, 11, 64]\n",
    "instance = VBP(W, w, b)"
   ]
  },
  {
   "cell_type": "markdown",
   "metadata": {},
   "source": [
    "Build an arc-flow graph for the VBP instance:"
   ]
  },
  {
   "cell_type": "code",
   "execution_count": 4,
   "metadata": {
    "collapsed": false
   },
   "outputs": [
    {
     "name": "stdout",
     "output_type": "stream",
     "text": [
      "VPSolver 3.0.1, Copyright (C) 2013-2016, Filipe Brandao\n",
      "Build (method = -3)\n",
      "  #dp: 140\n",
      "  Step-3' Graph: 40 vertices and 131 arcs (0.00s)\n",
      "  Step-4' Graph: 29 vertices and 109 arcs (0.00s)\n",
      "  #V4/#V3 = 0.72\n",
      "  #A4/#A3 = 0.83\n",
      "Ready! (0.00s)\n"
     ]
    }
   ],
   "source": [
    "afg = AFG(instance)"
   ]
  },
  {
   "cell_type": "markdown",
   "metadata": {},
   "source": [
    "Draw the arc-flow graph for the VBP instance:"
   ]
  },
  {
   "cell_type": "code",
   "execution_count": 5,
   "metadata": {
    "collapsed": false
   },
   "outputs": [
    {
     "data": {
      "text/html": [
       "<img src=\"graph_vbp.svg?nocache=1461342864.62\" />"
      ],
      "text/plain": [
       "<IPython.core.display.HTML object>"
      ]
     },
     "execution_count": 5,
     "metadata": {},
     "output_type": "execute_result"
    }
   ],
   "source": [
    "afg.draw(\"graph_vbp.svg\")\n",
    "HTML('<img src=\"graph_vbp.svg?nocache={}\" />'.format(time()))"
   ]
  },
  {
   "cell_type": "code",
   "execution_count": 6,
   "metadata": {
    "collapsed": false
   },
   "outputs": [
    {
     "data": {
      "text/html": [
       "<img src=\"graph_vbp_lpaths.svg?nocache=1461342864.91\" />"
      ],
      "text/plain": [
       "<IPython.core.display.HTML object>"
      ]
     },
     "execution_count": 6,
     "metadata": {},
     "output_type": "execute_result"
    }
   ],
   "source": [
    "afg.draw(\"graph_vbp_lpaths.svg\", lpaths=True)\n",
    "HTML('<img src=\"graph_vbp_lpaths.svg?nocache={}\" />'.format(time()))"
   ]
  },
  {
   "cell_type": "markdown",
   "metadata": {
    "collapsed": true
   },
   "source": [
    "Solve the VBP instance:"
   ]
  },
  {
   "cell_type": "code",
   "execution_count": 7,
   "metadata": {
    "collapsed": false
   },
   "outputs": [
    {
     "name": "stdout",
     "output_type": "stream",
     "text": [
      "Copyright (C) 2013-2016, Filipe Brandao\n",
      "\n",
      ">>> vbp2afg...\n",
      "VPSolver 3.0.1, Copyright (C) 2013-2016, Filipe Brandao\n",
      "Build (method = -3)\n",
      "  #dp: 140\n",
      "  Step-3' Graph: 40 vertices and 131 arcs (0.00s)\n",
      "  Step-4' Graph: 29 vertices and 109 arcs (0.00s)\n",
      "  #V4/#V3 = 0.72\n",
      "  #A4/#A3 = 0.83\n",
      "Ready! (0.00s)\n",
      "\n",
      ">>> afg2mps...\n",
      "VPSolver 3.0.1, Copyright (C) 2013-2016, Filipe Brandao\n",
      "Generating the .MPS model...DONE!\n",
      "\n",
      ">>> solving the MIP model using GLPK...\n",
      "Note: different parameter settings may improve the performance substantially!\n",
      "GLPSOL: GLPK LP/MIP Solver, v4.52\n",
      "Parameter(s) specified in the command line:\n",
      " --mps /tmp/H1EgntEybe/model.mps --seed 1234 -o /tmp/H1EgntEybe/sol.out\n",
      "Reading problem data from `/tmp/H1EgntEybe/model.mps'...\n",
      "Problem: ARCFLOW\n",
      "Objective: OBJ\n",
      "36 rows, 109 columns, 282 non-zeros\n",
      "109 integer variables, none of which are binary\n",
      "441 records were read\n",
      "GLPK Integer Optimizer, v4.52\n",
      "36 rows, 109 columns, 282 non-zeros\n",
      "109 integer variables, none of which are binary\n",
      "Preprocessing...\n",
      "35 rows, 109 columns, 281 non-zeros\n",
      "109 integer variables, none of which are binary\n",
      "Scaling...\n",
      " A: min|aij| =  1.000e+00  max|aij| =  1.000e+00  ratio =  1.000e+00\n",
      "Problem data seem to be well scaled\n",
      "Constructing initial basis...\n",
      "Size of triangular part is 34\n",
      "Solving LP relaxation...\n",
      "GLPK Simplex Optimizer, v4.52\n",
      "35 rows, 109 columns, 281 non-zeros\n",
      "      0: obj =   0.000000000e+00  infeas =  1.980e+02 (1)\n",
      "*    18: obj =   8.125000000e+01  infeas =  0.000e+00 (1)\n",
      "*    52: obj =   3.282758621e+01  infeas =  9.437e-16 (1)\n",
      "OPTIMAL LP SOLUTION FOUND\n",
      "Integer optimization begins...\n",
      "+    52: mip =     not found yet >=              -inf        (1; 0)\n",
      "+   130: >>>>>   3.400000000e+01 >=   3.300000000e+01   2.9% (42; 0)\n",
      "Solution found by heuristic: 33\n",
      "+   138: mip =   3.300000000e+01 >=     tree is empty   0.0% (0; 89)\n",
      "INTEGER OPTIMAL SOLUTION FOUND\n",
      "Time used:   0.0 secs\n",
      "Memory used: 0.2 Mb (186829 bytes)\n",
      "Writing MIP solution to `/tmp/H1EgntEybe/sol.out'...\n",
      "\n",
      ">>> vbpsol...\n",
      "VPSolver 3.0.1, Copyright (C) 2013-2016, Filipe Brandao\n",
      "Objective: 33\n",
      "Solution:\n",
      "2 x [i=1, i=1, i=2, i=3, i=6]\n",
      "1 x [i=2, i=4, i=4, i=6]\n",
      "2 x [i=2, i=3, i=3, i=3, i=3, i=3, i=6]\n",
      "1 x [i=1, i=3, i=6, i=6, i=6]\n",
      "14 x [i=3, i=6, i=6, i=6, i=6]\n",
      "4 x [i=1, i=3, i=4, i=4, i=4]\n",
      "2 x [i=3, i=3, i=4, i=4, i=5, i=5]\n",
      "7 x [i=3, i=3, i=3, i=3, i=3, i=3, i=3, i=3, i=5]\n"
     ]
    }
   ],
   "source": [
    "output, solution = VPSolver.script(\"vpsolver_glpk.sh\", instance)"
   ]
  },
  {
   "cell_type": "code",
   "execution_count": 8,
   "metadata": {
    "collapsed": false
   },
   "outputs": [
    {
     "name": "stdout",
     "output_type": "stream",
     "text": [
      "Obj: 33\n",
      "Solution: [[(2, [(0, 0), (0, 0), (1, 0), (2, 0), (5, 0)]), (1, [(1, 0), (3, 0), (3, 0), (5, 0)]), (2, [(1, 0), (2, 0), (2, 0), (2, 0), (2, 0), (2, 0), (5, 0)]), (1, [(0, 0), (2, 0), (5, 0), (5, 0), (5, 0)]), (14, [(2, 0), (5, 0), (5, 0), (5, 0), (5, 0)]), (4, [(0, 0), (2, 0), (3, 0), (3, 0), (3, 0)]), (2, [(2, 0), (2, 0), (3, 0), (3, 0), (4, 0), (4, 0)]), (7, [(2, 0), (2, 0), (2, 0), (2, 0), (2, 0), (2, 0), (2, 0), (2, 0), (4, 0)])]]\n"
     ]
    }
   ],
   "source": [
    "obj, patterns = solution\n",
    "print(\"Obj: {}\".format(obj))\n",
    "print(\"Solution: {}\".format(patterns))"
   ]
  },
  {
   "cell_type": "markdown",
   "metadata": {},
   "source": [
    "Pretty-print the VBP solution:"
   ]
  },
  {
   "cell_type": "code",
   "execution_count": 9,
   "metadata": {
    "collapsed": false
   },
   "outputs": [
    {
     "name": "stdout",
     "output_type": "stream",
     "text": [
      "Objective: 33\n",
      "Solution:\n",
      "2 x [i=1, i=1, i=2, i=3, i=6]\n",
      "1 x [i=2, i=4, i=4, i=6]\n",
      "2 x [i=2, i=3, i=3, i=3, i=3, i=3, i=6]\n",
      "1 x [i=1, i=3, i=6, i=6, i=6]\n",
      "14 x [i=3, i=6, i=6, i=6, i=6]\n",
      "4 x [i=1, i=3, i=4, i=4, i=4]\n",
      "2 x [i=3, i=3, i=4, i=4, i=5, i=5]\n",
      "7 x [i=3, i=3, i=3, i=3, i=3, i=3, i=3, i=3, i=5]\n"
     ]
    }
   ],
   "source": [
    "from pyvpsolver.solvers import vbpsolver\n",
    "vbpsolver.print_solution(solution)"
   ]
  },
  {
   "cell_type": "markdown",
   "metadata": {},
   "source": [
    "## High-level API"
   ]
  },
  {
   "cell_type": "code",
   "execution_count": 10,
   "metadata": {
    "collapsed": true
   },
   "outputs": [],
   "source": [
    "from pyvpsolver.solvers import vbpsolver"
   ]
  },
  {
   "cell_type": "markdown",
   "metadata": {},
   "source": [
    "Solve the VBP instance using the high level API:"
   ]
  },
  {
   "cell_type": "code",
   "execution_count": 11,
   "metadata": {
    "collapsed": false
   },
   "outputs": [
    {
     "name": "stdout",
     "output_type": "stream",
     "text": [
      "Copyright (C) 2013-2016, Filipe Brandao\n",
      "\n",
      ">>> vbp2afg...\n",
      "VPSolver 3.0.1, Copyright (C) 2013-2016, Filipe Brandao\n",
      "Build (method = -3)\n",
      "  #dp: 140\n",
      "  Step-3' Graph: 40 vertices and 131 arcs (0.00s)\n",
      "  Step-4' Graph: 29 vertices and 109 arcs (0.00s)\n",
      "  #V4/#V3 = 0.72\n",
      "  #A4/#A3 = 0.83\n",
      "Ready! (0.00s)\n",
      "\n",
      ">>> afg2mps...\n",
      "VPSolver 3.0.1, Copyright (C) 2013-2016, Filipe Brandao\n",
      "Generating the .MPS model...DONE!\n",
      "\n",
      ">>> solving the MIP model using GLPK...\n",
      "Note: different parameter settings may improve the performance substantially!\n",
      "GLPSOL: GLPK LP/MIP Solver, v4.52\n",
      "Parameter(s) specified in the command line:\n",
      " --mps /tmp/hGP6VTSpvH/model.mps --seed 1234 -o /tmp/hGP6VTSpvH/sol.out\n",
      "Reading problem data from `/tmp/hGP6VTSpvH/model.mps'...\n",
      "Problem: ARCFLOW\n",
      "Objective: OBJ\n",
      "36 rows, 109 columns, 282 non-zeros\n",
      "109 integer variables, none of which are binary\n",
      "441 records were read\n",
      "GLPK Integer Optimizer, v4.52\n",
      "36 rows, 109 columns, 282 non-zeros\n",
      "109 integer variables, none of which are binary\n",
      "Preprocessing...\n",
      "35 rows, 109 columns, 281 non-zeros\n",
      "109 integer variables, none of which are binary\n",
      "Scaling...\n",
      " A: min|aij| =  1.000e+00  max|aij| =  1.000e+00  ratio =  1.000e+00\n",
      "Problem data seem to be well scaled\n",
      "Constructing initial basis...\n",
      "Size of triangular part is 34\n",
      "Solving LP relaxation...\n",
      "GLPK Simplex Optimizer, v4.52\n",
      "35 rows, 109 columns, 281 non-zeros\n",
      "      0: obj =   0.000000000e+00  infeas =  1.980e+02 (1)\n",
      "*    18: obj =   8.125000000e+01  infeas =  0.000e+00 (1)\n",
      "*    52: obj =   3.282758621e+01  infeas =  9.437e-16 (1)\n",
      "OPTIMAL LP SOLUTION FOUND\n",
      "Integer optimization begins...\n",
      "+    52: mip =     not found yet >=              -inf        (1; 0)\n",
      "+   130: >>>>>   3.400000000e+01 >=   3.300000000e+01   2.9% (42; 0)\n",
      "Solution found by heuristic: 33\n",
      "+   138: mip =   3.300000000e+01 >=     tree is empty   0.0% (0; 89)\n",
      "INTEGER OPTIMAL SOLUTION FOUND\n",
      "Time used:   0.0 secs\n",
      "Memory used: 0.2 Mb (186829 bytes)\n",
      "Writing MIP solution to `/tmp/hGP6VTSpvH/sol.out'...\n",
      "\n",
      ">>> vbpsol...\n",
      "VPSolver 3.0.1, Copyright (C) 2013-2016, Filipe Brandao\n",
      "Objective: 33\n",
      "Solution:\n",
      "2 x [i=1, i=1, i=2, i=3, i=6]\n",
      "1 x [i=2, i=4, i=4, i=6]\n",
      "2 x [i=2, i=3, i=3, i=3, i=3, i=3, i=6]\n",
      "1 x [i=1, i=3, i=6, i=6, i=6]\n",
      "14 x [i=3, i=6, i=6, i=6, i=6]\n",
      "4 x [i=1, i=3, i=4, i=4, i=4]\n",
      "2 x [i=3, i=3, i=4, i=4, i=5, i=5]\n",
      "7 x [i=3, i=3, i=3, i=3, i=3, i=3, i=3, i=3, i=5]\n"
     ]
    }
   ],
   "source": [
    "solution = vbpsolver.solve(W, w, b, script=\"vpsolver_glpk.sh\")"
   ]
  },
  {
   "cell_type": "code",
   "execution_count": 12,
   "metadata": {
    "collapsed": false
   },
   "outputs": [
    {
     "name": "stdout",
     "output_type": "stream",
     "text": [
      "Objective: 33\n",
      "Solution:\n",
      "2 x [i=1, i=1, i=2, i=3, i=6]\n",
      "1 x [i=2, i=4, i=4, i=6]\n",
      "2 x [i=2, i=3, i=3, i=3, i=3, i=3, i=6]\n",
      "1 x [i=1, i=3, i=6, i=6, i=6]\n",
      "14 x [i=3, i=6, i=6, i=6, i=6]\n",
      "4 x [i=1, i=3, i=4, i=4, i=4]\n",
      "2 x [i=3, i=3, i=4, i=4, i=5, i=5]\n",
      "7 x [i=3, i=3, i=3, i=3, i=3, i=3, i=3, i=3, i=5]\n"
     ]
    }
   ],
   "source": [
    "vbpsolver.print_solution(solution)"
   ]
  }
 ],
 "metadata": {
  "kernelspec": {
   "display_name": "Python 2",
   "language": "python",
   "name": "python2"
  },
  "language_info": {
   "codemirror_mode": {
    "name": "ipython",
    "version": 2
   },
   "file_extension": ".py",
   "mimetype": "text/x-python",
   "name": "python",
   "nbconvert_exporter": "python",
   "pygments_lexer": "ipython2",
   "version": "2.7.6"
  }
 },
 "nbformat": 4,
 "nbformat_minor": 0
}
