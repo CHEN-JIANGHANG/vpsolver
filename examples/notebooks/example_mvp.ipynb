{
 "cells": [
  {
   "cell_type": "markdown",
   "metadata": {},
   "source": [
    "# Simple MVP example"
   ]
  },
  {
   "cell_type": "code",
   "execution_count": 1,
   "metadata": {
    "collapsed": true
   },
   "outputs": [],
   "source": [
    "from __future__ import print_function\n",
    "from IPython.display import HTML\n",
    "from time import time"
   ]
  },
  {
   "cell_type": "markdown",
   "metadata": {},
   "source": [
    "## Mid-level API"
   ]
  },
  {
   "cell_type": "code",
   "execution_count": 2,
   "metadata": {
    "collapsed": true
   },
   "outputs": [],
   "source": [
    "from pyvpsolver import VPSolver, MVP, AFG, MPS"
   ]
  },
  {
   "cell_type": "markdown",
   "metadata": {},
   "source": [
    "Define a MVP instance:"
   ]
  },
  {
   "cell_type": "code",
   "execution_count": 3,
   "metadata": {
    "collapsed": true
   },
   "outputs": [],
   "source": [
    "Ws = [(100, 75), (75, 50)]\n",
    "Cs = [3, 2]\n",
    "Qs = [-1, -1]\n",
    "ws = [\n",
    "    [(75, 50)], \n",
    "    [(40, 15), (25, 25)]\n",
    "]\n",
    "b = [2, 1]\n",
    "instance = MVP(Ws, Cs, Qs, ws, b)"
   ]
  },
  {
   "cell_type": "markdown",
   "metadata": {},
   "source": [
    "Build an arc-flow graph for the MVP instance:"
   ]
  },
  {
   "cell_type": "code",
   "execution_count": 4,
   "metadata": {
    "collapsed": false
   },
   "outputs": [
    {
     "name": "stdout",
     "output_type": "stream",
     "text": [
      "VPSolver 3.0.1, Copyright (C) 2013-2016, Filipe Brandao\n",
      "Build (method = -3)\n",
      "  #dp: 6\n",
      "  Step-3' Graph: 7 vertices and 15 arcs (0.00s)\n",
      "  Step-4' Graph: 6 vertices and 11 arcs (0.00s)\n",
      "  #V4/#V3 = 0.86\n",
      "  #A4/#A3 = 0.73\n",
      "Ready! (0.00s)\n"
     ]
    }
   ],
   "source": [
    "afg = AFG(instance)"
   ]
  },
  {
   "cell_type": "markdown",
   "metadata": {},
   "source": [
    "Draw the arc-flow graph for the MVP instance:"
   ]
  },
  {
   "cell_type": "code",
   "execution_count": 5,
   "metadata": {
    "collapsed": false
   },
   "outputs": [
    {
     "data": {
      "text/html": [
       "<img src=\"graph_mvp.svg?nocache=1461342883.76\" />"
      ],
      "text/plain": [
       "<IPython.core.display.HTML object>"
      ]
     },
     "execution_count": 5,
     "metadata": {},
     "output_type": "execute_result"
    }
   ],
   "source": [
    "afg.draw(\"graph_mvp.svg\")\n",
    "HTML('<img src=\"graph_mvp.svg?nocache={}\" />'.format(time()))"
   ]
  },
  {
   "cell_type": "code",
   "execution_count": 6,
   "metadata": {
    "collapsed": false
   },
   "outputs": [
    {
     "data": {
      "text/html": [
       "<img src=\"graph_mvp_lpaths.svg?nocache=1461342884.06\" />"
      ],
      "text/plain": [
       "<IPython.core.display.HTML object>"
      ]
     },
     "execution_count": 6,
     "metadata": {},
     "output_type": "execute_result"
    }
   ],
   "source": [
    "afg.draw(\"graph_mvp_lpaths.svg\", lpaths=True)\n",
    "HTML('<img src=\"graph_mvp_lpaths.svg?nocache={}\" />'.format(time()))"
   ]
  },
  {
   "cell_type": "markdown",
   "metadata": {
    "collapsed": true
   },
   "source": [
    "Solve the MVP instance:"
   ]
  },
  {
   "cell_type": "code",
   "execution_count": 7,
   "metadata": {
    "collapsed": false
   },
   "outputs": [
    {
     "name": "stdout",
     "output_type": "stream",
     "text": [
      "Copyright (C) 2013-2016, Filipe Brandao\n",
      "\n",
      ">>> vbp2afg...\n",
      "VPSolver 3.0.1, Copyright (C) 2013-2016, Filipe Brandao\n",
      "Build (method = -3)\n",
      "  #dp: 6\n",
      "  Step-3' Graph: 7 vertices and 15 arcs (0.00s)\n",
      "  Step-4' Graph: 6 vertices and 11 arcs (0.00s)\n",
      "  #V4/#V3 = 0.86\n",
      "  #A4/#A3 = 0.73\n",
      "Ready! (0.00s)\n",
      "\n",
      ">>> afg2mps...\n",
      "VPSolver 3.0.1, Copyright (C) 2013-2016, Filipe Brandao\n",
      "Generating the .MPS model...DONE!\n",
      "\n",
      ">>> solving the MIP model using GLPK...\n",
      "Note: different parameter settings may improve the performance substantially!\n",
      "GLPSOL: GLPK LP/MIP Solver, v4.52\n",
      "Parameter(s) specified in the command line:\n",
      " --mps /tmp/lDwAuXOwZT/model.mps --seed 1234 -o /tmp/lDwAuXOwZT/sol.out\n",
      "Reading problem data from `/tmp/lDwAuXOwZT/model.mps'...\n",
      "Problem: ARCFLOW\n",
      "Objective: OBJ\n",
      "9 rows, 11 columns, 28 non-zeros\n",
      "11 integer variables, 3 of which are binary\n",
      "58 records were read\n",
      "GLPK Integer Optimizer, v4.52\n",
      "9 rows, 11 columns, 28 non-zeros\n",
      "11 integer variables, 3 of which are binary\n",
      "Preprocessing...\n",
      "7 rows, 10 columns, 23 non-zeros\n",
      "10 integer variables, 4 of which are binary\n",
      "Scaling...\n",
      " A: min|aij| =  1.000e+00  max|aij| =  1.000e+00  ratio =  1.000e+00\n",
      "Problem data seem to be well scaled\n",
      "Constructing initial basis...\n",
      "Size of triangular part is 6\n",
      "Solving LP relaxation...\n",
      "GLPK Simplex Optimizer, v4.52\n",
      "7 rows, 10 columns, 23 non-zeros\n",
      "      0: obj =   0.000000000e+00  infeas =  5.000e+00 (1)\n",
      "*     2: obj =   5.000000000e+00  infeas =  0.000e+00 (1)\n",
      "*     3: obj =   5.000000000e+00  infeas =  0.000e+00 (1)\n",
      "OPTIMAL LP SOLUTION FOUND\n",
      "Integer optimization begins...\n",
      "+     3: mip =     not found yet >=              -inf        (1; 0)\n",
      "+     4: >>>>>   5.000000000e+00 >=   5.000000000e+00   0.0% (2; 0)\n",
      "+     4: mip =   5.000000000e+00 >=     tree is empty   0.0% (0; 3)\n",
      "INTEGER OPTIMAL SOLUTION FOUND\n",
      "Time used:   0.0 secs\n",
      "Memory used: 0.1 Mb (54700 bytes)\n",
      "Writing MIP solution to `/tmp/lDwAuXOwZT/sol.out'...\n",
      "\n",
      ">>> vbpsol...\n",
      "VPSolver 3.0.1, Copyright (C) 2013-2016, Filipe Brandao\n",
      "Objective: 5\n",
      "Solution:\n",
      "Bins of type 1: 1\n",
      "1 x [i=1, i=2 opt=2]\n",
      "Bins of type 2: 1\n",
      "1 x [i=1]\n"
     ]
    }
   ],
   "source": [
    "output, solution = VPSolver.script(\"vpsolver_glpk.sh\", instance)"
   ]
  },
  {
   "cell_type": "code",
   "execution_count": 8,
   "metadata": {
    "collapsed": false
   },
   "outputs": [
    {
     "name": "stdout",
     "output_type": "stream",
     "text": [
      "Obj: 5\n",
      "Solution: [[(1, [(0, 0), (1, 1)])], [(1, [(0, 0)])]]\n"
     ]
    }
   ],
   "source": [
    "obj, patterns = solution\n",
    "print(\"Obj: {}\".format(obj))\n",
    "print(\"Solution: {}\".format(patterns))"
   ]
  },
  {
   "cell_type": "markdown",
   "metadata": {},
   "source": [
    "Pretty-print the MVP solution:"
   ]
  },
  {
   "cell_type": "code",
   "execution_count": 9,
   "metadata": {
    "collapsed": false
   },
   "outputs": [
    {
     "name": "stdout",
     "output_type": "stream",
     "text": [
      "Objective: 5\n",
      "Solution:\n",
      "Bins of type 1: 1 bin\n",
      "1 x [i=1 opt=1, i=2 opt=2]\n",
      "Bins of type 2: 1 bin\n",
      "1 x [i=1 opt=1]\n"
     ]
    }
   ],
   "source": [
    "from pyvpsolver.solvers import mvpsolver\n",
    "mvpsolver.print_solution(solution)"
   ]
  },
  {
   "cell_type": "markdown",
   "metadata": {},
   "source": [
    "## High-level API"
   ]
  },
  {
   "cell_type": "code",
   "execution_count": 10,
   "metadata": {
    "collapsed": true
   },
   "outputs": [],
   "source": [
    "from pyvpsolver.solvers import mvpsolver"
   ]
  },
  {
   "cell_type": "markdown",
   "metadata": {},
   "source": [
    "Solve the MVP instance using the high level API:"
   ]
  },
  {
   "cell_type": "code",
   "execution_count": 11,
   "metadata": {
    "collapsed": false
   },
   "outputs": [
    {
     "name": "stdout",
     "output_type": "stream",
     "text": [
      "Copyright (C) 2013-2016, Filipe Brandao\n",
      "\n",
      ">>> vbp2afg...\n",
      "VPSolver 3.0.1, Copyright (C) 2013-2016, Filipe Brandao\n",
      "Build (method = -3)\n",
      "  #dp: 6\n",
      "  Step-3' Graph: 7 vertices and 15 arcs (0.00s)\n",
      "  Step-4' Graph: 6 vertices and 11 arcs (0.00s)\n",
      "  #V4/#V3 = 0.86\n",
      "  #A4/#A3 = 0.73\n",
      "Ready! (0.00s)\n",
      "\n",
      ">>> afg2mps...\n",
      "VPSolver 3.0.1, Copyright (C) 2013-2016, Filipe Brandao\n",
      "Generating the .MPS model...DONE!\n",
      "\n",
      ">>> solving the MIP model using GLPK...\n",
      "Note: different parameter settings may improve the performance substantially!\n",
      "GLPSOL: GLPK LP/MIP Solver, v4.52\n",
      "Parameter(s) specified in the command line:\n",
      " --mps /tmp/XFC33SQvG8/model.mps --seed 1234 -o /tmp/XFC33SQvG8/sol.out\n",
      "Reading problem data from `/tmp/XFC33SQvG8/model.mps'...\n",
      "Problem: ARCFLOW\n",
      "Objective: OBJ\n",
      "9 rows, 11 columns, 28 non-zeros\n",
      "11 integer variables, 3 of which are binary\n",
      "58 records were read\n",
      "GLPK Integer Optimizer, v4.52\n",
      "9 rows, 11 columns, 28 non-zeros\n",
      "11 integer variables, 3 of which are binary\n",
      "Preprocessing...\n",
      "7 rows, 10 columns, 23 non-zeros\n",
      "10 integer variables, 4 of which are binary\n",
      "Scaling...\n",
      " A: min|aij| =  1.000e+00  max|aij| =  1.000e+00  ratio =  1.000e+00\n",
      "Problem data seem to be well scaled\n",
      "Constructing initial basis...\n",
      "Size of triangular part is 6\n",
      "Solving LP relaxation...\n",
      "GLPK Simplex Optimizer, v4.52\n",
      "7 rows, 10 columns, 23 non-zeros\n",
      "      0: obj =   0.000000000e+00  infeas =  5.000e+00 (1)\n",
      "*     2: obj =   5.000000000e+00  infeas =  0.000e+00 (1)\n",
      "*     3: obj =   5.000000000e+00  infeas =  0.000e+00 (1)\n",
      "OPTIMAL LP SOLUTION FOUND\n",
      "Integer optimization begins...\n",
      "+     3: mip =     not found yet >=              -inf        (1; 0)\n",
      "+     4: >>>>>   5.000000000e+00 >=   5.000000000e+00   0.0% (2; 0)\n",
      "+     4: mip =   5.000000000e+00 >=     tree is empty   0.0% (0; 3)\n",
      "INTEGER OPTIMAL SOLUTION FOUND\n",
      "Time used:   0.0 secs\n",
      "Memory used: 0.1 Mb (54700 bytes)\n",
      "Writing MIP solution to `/tmp/XFC33SQvG8/sol.out'...\n",
      "\n",
      ">>> vbpsol...\n",
      "VPSolver 3.0.1, Copyright (C) 2013-2016, Filipe Brandao\n",
      "Objective: 5\n",
      "Solution:\n",
      "Bins of type 1: 1\n",
      "1 x [i=1, i=2 opt=2]\n",
      "Bins of type 2: 1\n",
      "1 x [i=1]\n"
     ]
    }
   ],
   "source": [
    "solution = mvpsolver.solve(Ws, Cs, Qs, ws, b, script=\"vpsolver_glpk.sh\")"
   ]
  },
  {
   "cell_type": "code",
   "execution_count": 12,
   "metadata": {
    "collapsed": false
   },
   "outputs": [
    {
     "name": "stdout",
     "output_type": "stream",
     "text": [
      "Objective: 5\n",
      "Solution:\n",
      "Bins of type 1: 1 bin\n",
      "1 x [i=1 opt=1, i=2 opt=2]\n",
      "Bins of type 2: 1 bin\n",
      "1 x [i=1 opt=1]\n"
     ]
    }
   ],
   "source": [
    "mvpsolver.print_solution(solution)"
   ]
  }
 ],
 "metadata": {
  "kernelspec": {
   "display_name": "Python 2",
   "language": "python",
   "name": "python2"
  },
  "language_info": {
   "codemirror_mode": {
    "name": "ipython",
    "version": 2
   },
   "file_extension": ".py",
   "mimetype": "text/x-python",
   "name": "python",
   "nbconvert_exporter": "python",
   "pygments_lexer": "ipython2",
   "version": "2.7.6"
  }
 },
 "nbformat": 4,
 "nbformat_minor": 0
}
